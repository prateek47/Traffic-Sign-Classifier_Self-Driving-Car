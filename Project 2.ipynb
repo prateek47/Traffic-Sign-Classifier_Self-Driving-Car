{
 "cells": [
  {
   "cell_type": "markdown",
   "metadata": {},
   "source": [
    "### This is code is written for the project 2 of the Self Driving Car Course, and parts of the code are taken from it the course"
   ]
  },
  {
   "cell_type": "code",
   "execution_count": 1,
   "metadata": {
    "collapsed": false
   },
   "outputs": [],
   "source": [
    "# Libraries\n",
    "import tensorflow as tf\n",
    "import pickle\n",
    "from sklearn.cross_validation import train_test_split\n",
    "import random\n",
    "import numpy as np\n",
    "import matplotlib.pyplot as plt\n",
    "%matplotlib inline\n",
    "from sklearn.utils import shuffle\n",
    "from tensorflow.contrib.layers import flatten"
   ]
  },
  {
   "cell_type": "markdown",
   "metadata": {},
   "source": [
    "## Step 0: Load the Data"
   ]
  },
  {
   "cell_type": "markdown",
   "metadata": {},
   "source": [
    "### Importing the data, saved from pickling and then changing the protocol of a file in python3(see .py file attached in the submission)\n"
   ]
  },
  {
   "cell_type": "code",
   "execution_count": 2,
   "metadata": {
    "collapsed": false
   },
   "outputs": [],
   "source": [
    "# Reading the data\n",
    "training_file = 'train1.pkl'\n",
    "testing_file = 'test1.pkl'\n",
    "with open(training_file, mode = 'rb') as f:\n",
    "    train = pickle.load(f)\n",
    "with open(testing_file, mode = 'rb') as f:\n",
    "    test = pickle.load(f)"
   ]
  },
  {
   "cell_type": "markdown",
   "metadata": {},
   "source": [
    "## Step 1: Dataset Summary & Exploration\n",
    "The pickled data is a dictionary with 4 key/value pairs:\n",
    "\n",
    "* 'features' is a 4D array containing raw pixel data of the traffic sign images, (num examples, width, height, channels).\n",
    "* 'labels' is a 1D array containing the label/class id of the traffic sign. The file signnames.csv contains id -> name mappings for each id.\n",
    "* 'sizes' is a list containing tuples, (width, height) representing the the original width and height the image.\n",
    "* 'coords' is a list containing tuples, (x1, y1, x2, y2) representing coordinates of a bounding box around the sign in the image. **THESE COORDINATES ASSUME THE ORIGINAL IMAGE. THE PICKLED DATA CONTAINS RESIZED VERSIONS (32 by 32) OF THESE IMAGES**\n",
    "\n",
    "Complete the basic data summary below."
   ]
  },
  {
   "cell_type": "code",
   "execution_count": 3,
   "metadata": {
    "collapsed": false
   },
   "outputs": [
    {
     "name": "stdout",
     "output_type": "stream",
     "text": [
      "Number of training examples = 39209\n",
      "Number of testing examples = 12630\n",
      "Image data shape = (32, 32, 3)\n",
      "Number of classes = 43\n"
     ]
    }
   ],
   "source": [
    "# Number of training examples\n",
    "n_train = len(train['features'])\n",
    "\n",
    "# Number of testing examples.\n",
    "n_test = len(test['features'])\n",
    "\n",
    "# What's the shape of an traffic sign image?\n",
    "image_shape = train['features'][0].shape\n",
    "\n",
    "# How many unique classes/labels there are in the dataset.\n",
    "n_classes = len(set(train['labels']))\n",
    "\n",
    "print(\"Number of training examples = {}\" .format(n_train))\n",
    "print(\"Number of testing examples = {}\" .format(n_test))\n",
    "print(\"Image data shape = {}\" .format(image_shape))\n",
    "print(\"Number of classes = {}\" .format(n_classes))"
   ]
  },
  {
   "cell_type": "markdown",
   "metadata": {},
   "source": [
    "## Step 2: Design and Test a Model Architecture"
   ]
  },
  {
   "cell_type": "markdown",
   "metadata": {},
   "source": [
    "### Implementation"
   ]
  },
  {
   "cell_type": "markdown",
   "metadata": {},
   "source": [
    "#### Question 1:\n",
    "Describe how you preprocessed the data. Why did you choose that technique?"
   ]
  },
  {
   "cell_type": "markdown",
   "metadata": {},
   "source": [
    "#### Answer 1:\n",
    "The training set is first split is 70:30 for training and validation, this is done to create a validation dataset to test the model without contaminating the test set provided.\n",
    "Also, Normalization technique is utilized over each pixel (i.e. (R/G/B -128)/128), this is done to reduce the range of pixel values, initially the range was 0-255 now the range is -1 to 1. As weights are initialized randomly, therefore, updating it will take a lot of time if input values are spread across a higher range, but normalizing, we are not only able to save on the speeding up the process to find global optima, and reduces the chances to getting stuck in a local optima, while still saving the relative closeness among the inputs."
   ]
  },
  {
   "cell_type": "markdown",
   "metadata": {},
   "source": [
    "#### Question 2:\n",
    "Describe how you set up the training, validation and testing data for your model. Optional: If you generated additional data, how did you generate the data? Why did you generate the data? What are the differences in the new dataset (with generated data) from the original dataset?"
   ]
  },
  {
   "cell_type": "markdown",
   "metadata": {},
   "source": [
    "#### Answer 2:\n",
    "I split the training data in 70:30 to create a training and validation dataset. Although, I did not generate more data, but in case, if I want to I can \n",
    "\n",
    "* duplicate existing values\n",
    "* use various techniques like SMOTE to create random data\n",
    "* Rotate the existing images in the dataset to create new images"
   ]
  },
  {
   "cell_type": "markdown",
   "metadata": {},
   "source": [
    "### Creating a Training, Testing set"
   ]
  },
  {
   "cell_type": "code",
   "execution_count": 4,
   "metadata": {
    "collapsed": true
   },
   "outputs": [],
   "source": [
    "X_train1, y_train1 = train['features'], train['labels']\n",
    "X_test, y_test = test['features'], test['labels']"
   ]
  },
  {
   "cell_type": "markdown",
   "metadata": {},
   "source": [
    "### Normalizing the Training images"
   ]
  },
  {
   "cell_type": "code",
   "execution_count": 5,
   "metadata": {
    "collapsed": false
   },
   "outputs": [],
   "source": [
    "X_train1 = X_train1.astype('float32')\n",
    "for num in range(n_train):\n",
    "    for x in xrange(0,32):\n",
    "        for y in xrange(0,32):\n",
    "            [r,g,b] = X_train1[num][x,y]\n",
    "        \n",
    "            r = (r-128)/128.0\n",
    "            g = (g-128)/128.0\n",
    "            b = (b-128)/128.0\n",
    "            X_train1[num][x,y] = [r,g,b]"
   ]
  },
  {
   "cell_type": "markdown",
   "metadata": {},
   "source": [
    "### Normalizing the Testing images"
   ]
  },
  {
   "cell_type": "code",
   "execution_count": 6,
   "metadata": {
    "collapsed": true
   },
   "outputs": [],
   "source": [
    "X_test = X_test.astype(\"float32\")\n",
    "for num in range(n_test):\n",
    "    for x in xrange(0,32):\n",
    "        for y in xrange(0,32):\n",
    "            [r,g,b] = X_test[num][x,y]\n",
    "        \n",
    "            r = (r-128)/128.0\n",
    "            g = (g-128)/128.0\n",
    "            b = (b-128)/128.0\n",
    "            X_test[num][x,y] = [r,g,b]"
   ]
  },
  {
   "cell_type": "markdown",
   "metadata": {},
   "source": [
    "### Creating a validation set from Training"
   ]
  },
  {
   "cell_type": "code",
   "execution_count": 7,
   "metadata": {
    "collapsed": false
   },
   "outputs": [],
   "source": [
    "# Shuffling the training set\n",
    "X_train1, y_train1 = shuffle(X_train1, y_train1)"
   ]
  },
  {
   "cell_type": "code",
   "execution_count": 8,
   "metadata": {
    "collapsed": true
   },
   "outputs": [],
   "source": [
    "X_train, X_validation, y_train, y_validation = train_test_split(X_train1, y_train1, test_size = 0.3)"
   ]
  },
  {
   "cell_type": "markdown",
   "metadata": {},
   "source": [
    "#### As the images are already in 32x32 size therefore there is no need of providing extra padding"
   ]
  },
  {
   "cell_type": "markdown",
   "metadata": {},
   "source": [
    "### Visualizing the image"
   ]
  },
  {
   "cell_type": "code",
   "execution_count": 9,
   "metadata": {
    "collapsed": false
   },
   "outputs": [
    {
     "name": "stdout",
     "output_type": "stream",
     "text": [
      "16\n"
     ]
    },
    {
     "data": {
      "image/png": "[encoded data removed]",
      "text/plain": [
       "<matplotlib.figure.Figure at 0x123154390>"
      ]
     },
     "metadata": {},
     "output_type": "display_data"
    }
   ],
   "source": [
    "index = random.randint(0, len(X_train))\n",
    "image = X_train[index].squeeze()\n",
    "\n",
    "plt.figure(figsize=(1,1))\n",
    "plt.imshow(image, cmap=\"gray\")\n",
    "print(y_train[index])"
   ]
  },
  {
   "cell_type": "markdown",
   "metadata": {},
   "source": [
    "#### Question 3:\n",
    "What does your final architecture look like? (Type of model, layers, sizes, connectivity, etc.) For reference on how to build a deep neural network using TensorFlow, see Deep Neural Network in TensorFlow from the classroom."
   ]
  },
  {
   "cell_type": "markdown",
   "metadata": {},
   "source": [
    "### Setting up the Tensorflow "
   ]
  },
  {
   "cell_type": "code",
   "execution_count": 10,
   "metadata": {
    "collapsed": true
   },
   "outputs": [],
   "source": [
    "epoch = 38                        # how many time to run the training data to run through the network\n",
    "Batch_size = 128"
   ]
  },
  {
   "cell_type": "markdown",
   "metadata": {},
   "source": [
    "### Neural Net Architecture"
   ]
  },
  {
   "cell_type": "code",
   "execution_count": 11,
   "metadata": {
    "collapsed": true
   },
   "outputs": [],
   "source": [
    "def NeuArch(X_input_, keep_prob):\n",
    "    # arguments to initialize the weights\n",
    "    mu = 0\n",
    "    sigma = 0.1\n",
    "    \n",
    "    # 1st Layer; (Convolutional)\n",
    "    conv1_W = tf.Variable(tf.truncated_normal((5,5,3,10), mean= mu, stddev= sigma))\n",
    "    conv1_b = tf.Variable(tf.zeros(10))\n",
    "    \n",
    "    conv1 = tf.nn.conv2d(X_input_, conv1_W, strides=[1,1,1,1], padding='VALID') + conv1_b  # 28\n",
    "    # Activation funcion\n",
    "    conv1 = tf.nn.relu(conv1)\n",
    "    # Pooling layer\n",
    "    pool1 = tf.nn.max_pool(conv1, ksize= [1,2,2,1], strides=[1,2,2,1], padding='VALID')   # 14\n",
    "    # ----------------------------------------------------------------------------------------\n",
    "    \n",
    "    # 2nd Layer, (Convolution)\n",
    "    conv2_W = tf.Variable(tf.truncated_normal((3,3,10,26), mean = mu, stddev=sigma))\n",
    "    conv2_b = tf.Variable(tf.zeros(26))\n",
    "    \n",
    "    conv2 = tf.nn.conv2d(pool1, conv2_W, strides=[1,1,1,1], padding='VALID') + conv2_b  # 12\n",
    "    # Activation Layer\n",
    "    conv2 = tf.nn.relu(conv2)\n",
    "    # Pooling Layer\n",
    "    pool2 = tf.nn.max_pool(conv2, ksize=[1,2,2,1], strides=[1,2,2,1], padding='VALID')  # 6\n",
    "    # -----------------------------------------------------------------------------------------\n",
    "       \n",
    "    # 3rd Layer; (fully connected layer)\n",
    "    # first flattening the pixels in a image\n",
    "    fc0 = flatten(pool2)\n",
    "    \n",
    "    fc1_W = tf.Variable(tf.truncated_normal((936, 300), mean = mu, stddev = sigma))\n",
    "    fc1_b = tf.Variable(tf.zeros(300))\n",
    "    fc1 = tf.matmul(fc0, fc1_W) + fc1_b\n",
    "    \n",
    "    # activation\n",
    "    fc1 = tf.nn.relu(fc1)\n",
    "    # dropout\n",
    "    fc1 = tf.nn.dropout(fc1, keep_prob)\n",
    "    # ------------------------------------------------------------------------------------------\n",
    "    \n",
    "    # 4th Layer; (fully connection layer)\n",
    "    fc2_W = tf.Variable(tf.truncated_normal((300,114), mean= mu, stddev= sigma))\n",
    "    fc2_b = tf.Variable(tf.zeros(114))\n",
    "    fc2 = tf.matmul(fc1, fc2_W) + fc2_b\n",
    "    \n",
    "    # activation\n",
    "    fc2 = tf.nn.relu(fc2)\n",
    "    # dropout\n",
    "    fc2 = tf.nn.dropout(fc2, keep_prob)\n",
    "    # -------------------------------------------------------------------------------------------\n",
    "    \n",
    "    # Final Output Layer\n",
    "    fc3_W = tf.Variable(tf.truncated_normal((114,43), mean=mu, stddev=sigma))\n",
    "    fc3_b = tf.Variable(tf.zeros(43))\n",
    "    logits = tf.matmul(fc2,fc3_W) + fc3_b\n",
    "    \n",
    "    return logits\n",
    "    "
   ]
  },
  {
   "cell_type": "markdown",
   "metadata": {},
   "source": [
    "### Features and Labels"
   ]
  },
  {
   "cell_type": "code",
   "execution_count": 12,
   "metadata": {
    "collapsed": false
   },
   "outputs": [],
   "source": [
    "x_ = tf.placeholder(tf.float32, (None,32,32,3))\n",
    "y = tf.placeholder(tf.int32, (None))\n",
    "one_hot_y = tf.one_hot(y, 43)\n",
    "keep_prob = tf.placeholder(tf.float32)"
   ]
  },
  {
   "cell_type": "markdown",
   "metadata": {},
   "source": [
    "#### Question 4:\n",
    "How did you train your model? (Type of optimizer, batch size, epochs, hyperparameters, etc.)"
   ]
  },
  {
   "cell_type": "markdown",
   "metadata": {},
   "source": [
    "#### Answer 4:\n",
    "Below are some hyperparameter set for training the model\n",
    "* **Batch Size** = 128; Standard, batch size gives the ability to train a subset of the data rather than the whole data together, if the computer lacks the space. While 128 is considered a standard batch size, after trail and error it also provides the optimal balance between space and speed of the model.\n",
    "* **Epoch** =  38; It is a single backward and forward pass of the neural net, the more the number of epoch the better the accuracy, but more the running time of the model. As, the current architecture in ran on a CPU therefore, 38 epoch gives the perfect balance between runnning time and accuracy.\n",
    "* **Learning rate(rate)** =  0.0015; Learning rate decides how much the weights should be adjusted wrt delta function. Although, it is more of a trial and error testing, but with higher learning rate, the model learns faster, but there is an possibility of overshooting the global optima, and then the model would just revolve around the global optima and a lower learning rate, will take a lot more number of runs to each the global optima. I choose 0.0015, as neither overshoots the global optima, nor is slow in reaching it.\n",
    "* **Dropout(keep probability)** = 0.75, Dropout is the % of neurons removed for consideration on the next layer, it is a form of regularization technique with the aim to reduce overfitting, but if you remove too many neurons, it could lead to lower accuracy, as it might reduce the features learnt in each layer.\n",
    "* **Optimizer** = AdamOptimizer; Foremost is that it uses moving averages of the parameters (momentum), which can give faster convergence.This enables the optimizer to use a larger step size, and the algorithm will converge to this step size. Also, Adamoptimizer adaptively select a separate learning rate for each parameter. Parameters that would ordinarily receive smaller or less frequent updates receive larger updates(and vice versa). This speeds learning in cases where the appropriate learning rates vary across parameters. "
   ]
  },
  {
   "cell_type": "markdown",
   "metadata": {},
   "source": [
    "### Training Pipeline"
   ]
  },
  {
   "cell_type": "code",
   "execution_count": 13,
   "metadata": {
    "collapsed": true
   },
   "outputs": [],
   "source": [
    "rate = 0.0015\n",
    "logits = NeuArch(x_, keep_prob)\n",
    "cross_entropy = tf.nn.softmax_cross_entropy_with_logits(logits, one_hot_y)\n",
    "loss_operation = tf.reduce_mean(cross_entropy)\n",
    "optimizer = tf.train.AdamOptimizer(learning_rate=rate)\n",
    "training_operation = optimizer.minimize(loss_operation)"
   ]
  },
  {
   "cell_type": "markdown",
   "metadata": {},
   "source": [
    "### Model Evaluation"
   ]
  },
  {
   "cell_type": "code",
   "execution_count": 14,
   "metadata": {
    "collapsed": true
   },
   "outputs": [],
   "source": [
    "correct_prediction = tf.equal(tf.argmax(logits,1), tf.argmax(one_hot_y,1))\n",
    "accuracy_operation = tf.reduce_mean(tf.cast(correct_prediction, tf.float32))\n",
    "saver = tf.train.Saver()\n",
    "\n",
    "def evaluate(X_data, y_data):\n",
    "    num_examples = len(X_data)\n",
    "    total_accuracy = 0\n",
    "    sess = tf.get_default_session()\n",
    "    for offset in range(0, num_examples, Batch_size):\n",
    "        batch_x, batch_y = X_data[offset:offset+Batch_size], y_data[offset:offset+Batch_size]\n",
    "        accuracy = sess.run(accuracy_operation, feed_dict={x_: batch_x, y: batch_y, keep_prob: 1.0})\n",
    "        total_accuracy += (accuracy * len(batch_x))\n",
    "    return total_accuracy / num_examples"
   ]
  },
  {
   "cell_type": "markdown",
   "metadata": {},
   "source": [
    "### Training the Tensorflow Model"
   ]
  },
  {
   "cell_type": "code",
   "execution_count": 16,
   "metadata": {
    "collapsed": false,
    "scrolled": true
   },
   "outputs": [
    {
     "name": "stdout",
     "output_type": "stream",
     "text": [
      "Training...\n",
      "()\n",
      "EPOCH 1 ...\n",
      "Validation Accuracy = 0.888\n",
      "()\n",
      "EPOCH 2 ...\n",
      "Validation Accuracy = 0.959\n",
      "()\n",
      "EPOCH 3 ...\n",
      "Validation Accuracy = 0.972\n",
      "()\n",
      "EPOCH 4 ...\n",
      "Validation Accuracy = 0.981\n",
      "()\n",
      "EPOCH 5 ...\n",
      "Validation Accuracy = 0.987\n",
      "()\n",
      "EPOCH 6 ...\n",
      "Validation Accuracy = 0.988\n",
      "()\n",
      "EPOCH 7 ...\n",
      "Validation Accuracy = 0.986\n",
      "()\n",
      "EPOCH 8 ...\n",
      "Validation Accuracy = 0.988\n",
      "()\n",
      "EPOCH 9 ...\n",
      "Validation Accuracy = 0.983\n",
      "()\n",
      "EPOCH 10 ...\n",
      "Validation Accuracy = 0.988\n",
      "()\n",
      "EPOCH 11 ...\n",
      "Validation Accuracy = 0.990\n",
      "()\n",
      "EPOCH 12 ...\n",
      "Validation Accuracy = 0.990\n",
      "()\n",
      "EPOCH 13 ...\n",
      "Validation Accuracy = 0.991\n",
      "()\n",
      "EPOCH 14 ...\n",
      "Validation Accuracy = 0.991\n",
      "()\n",
      "EPOCH 15 ...\n",
      "Validation Accuracy = 0.992\n",
      "()\n",
      "EPOCH 16 ...\n",
      "Validation Accuracy = 0.992\n",
      "()\n",
      "EPOCH 17 ...\n",
      "Validation Accuracy = 0.989\n",
      "()\n",
      "EPOCH 18 ...\n",
      "Validation Accuracy = 0.990\n",
      "()\n",
      "EPOCH 19 ...\n",
      "Validation Accuracy = 0.990\n",
      "()\n",
      "EPOCH 20 ...\n",
      "Validation Accuracy = 0.990\n",
      "()\n",
      "EPOCH 21 ...\n",
      "Validation Accuracy = 0.990\n",
      "()\n",
      "EPOCH 22 ...\n",
      "Validation Accuracy = 0.991\n",
      "()\n",
      "EPOCH 23 ...\n",
      "Validation Accuracy = 0.993\n",
      "()\n",
      "EPOCH 24 ...\n",
      "Validation Accuracy = 0.992\n",
      "()\n",
      "EPOCH 25 ...\n",
      "Validation Accuracy = 0.992\n",
      "()\n",
      "EPOCH 26 ...\n",
      "Validation Accuracy = 0.991\n",
      "()\n",
      "EPOCH 27 ...\n",
      "Validation Accuracy = 0.990\n",
      "()\n",
      "EPOCH 28 ...\n",
      "Validation Accuracy = 0.990\n",
      "()\n",
      "EPOCH 29 ...\n",
      "Validation Accuracy = 0.990\n",
      "()\n",
      "EPOCH 30 ...\n",
      "Validation Accuracy = 0.992\n",
      "()\n",
      "EPOCH 31 ...\n",
      "Validation Accuracy = 0.992\n",
      "()\n",
      "EPOCH 32 ...\n",
      "Validation Accuracy = 0.988\n",
      "()\n",
      "EPOCH 33 ...\n",
      "Validation Accuracy = 0.990\n",
      "()\n",
      "EPOCH 34 ...\n",
      "Validation Accuracy = 0.991\n",
      "()\n",
      "EPOCH 35 ...\n",
      "Validation Accuracy = 0.991\n",
      "()\n",
      "EPOCH 36 ...\n",
      "Validation Accuracy = 0.993\n",
      "()\n",
      "EPOCH 37 ...\n",
      "Validation Accuracy = 0.986\n",
      "()\n",
      "EPOCH 38 ...\n",
      "Validation Accuracy = 0.991\n",
      "()\n",
      "Model saved\n"
     ]
    }
   ],
   "source": [
    "with tf.Session() as sess:\n",
    "    sess.run(tf.initialize_all_variables())\n",
    "#    sess.run(tf.global_variables_initializer())\n",
    "    num_examples = len(X_train)\n",
    "    \n",
    "    print(\"Training...\")\n",
    "    print()\n",
    "    for i in range(epoch):\n",
    "        X_train, y_train = shuffle(X_train, y_train)\n",
    "        for offset in range(0, num_examples, Batch_size):\n",
    "            end = offset + Batch_size\n",
    "            batch_x, batch_y = X_train[offset:end], y_train[offset:end]\n",
    "            sess.run(training_operation, feed_dict={x_: batch_x, y: batch_y, keep_prob: 0.75})\n",
    "            \n",
    "        validation_accuracy = evaluate(X_validation, y_validation)\n",
    "        print(\"EPOCH {} ...\".format(i+1))\n",
    "        print(\"Validation Accuracy = {:.3f}\".format(validation_accuracy))\n",
    "        print()\n",
    "        \n",
    "    saver.save(sess, 'project2_')\n",
    "    print(\"Model saved\")"
   ]
  },
  {
   "cell_type": "markdown",
   "metadata": {},
   "source": [
    "#### Question 5:\n",
    "What approach did you take in coming up with a solution to this problem? It may have been a process of trial and error, in which case, outline the steps you took to get to the final solution and why you chose those steps. Perhaps your solution involved an already well known implementation or architecture. In this case, discuss why you think this is suitable for the current problem."
   ]
  },
  {
   "cell_type": "markdown",
   "metadata": {},
   "source": [
    "#### Answer 5:\n",
    "The various steps taken to reach the final model are:\n",
    "1. Started with the Lenet Architecture, as it consist of a mixture of convolution and fully connected layers, which was suitable for the current problem as it a provides good classification accuracy and also its not a pretty complex implementation either.\n",
    "2. As the accuracy was .95+, therefore, I introduced dropouts to avoid overfitting, with a keep_prob of .80, I increased the epoch to 15 from 10, as higher epoch could lead to better accuracy.\n",
    "3. With a litte increase in accuracy, Then I wanted to capture more pixel information, to improve the model, I changed the filter to 3x3 from 5x5 and also, the dimension of the fully connected layer was changed to 220 and 114.\n",
    "4. With success of previous step, the dimension of fully connected layer were then changed to 300 and 114, to be able to capture more information from the convolution layer.\n",
    "5. Drorput rate was increased to .8 and dropout was introduced on both the fully connected layers.\n",
    "6. I then increased the learning rate, after some trail and error, learning rate was increased from 0.001 to 0.0015.\n",
    "7. Epochs were increased to 50.\n",
    "8. The final step, was then to normalize the input layers, as mentioned above, by normalizing, I was able to find the global optima faster and also, avoid local optima better.\n",
    "9. With the final Model, I was able to achieve 0.992 accuracy on the validation data."
   ]
  },
  {
   "cell_type": "markdown",
   "metadata": {},
   "source": [
    "### Evaluation With Test Data"
   ]
  },
  {
   "cell_type": "code",
   "execution_count": 17,
   "metadata": {
    "collapsed": false
   },
   "outputs": [
    {
     "name": "stdout",
     "output_type": "stream",
     "text": [
      "Test Accuracy = 0.955\n"
     ]
    }
   ],
   "source": [
    "with tf.Session() as sess:\n",
    "    saver.restore(sess, 'project2_')\n",
    "    \n",
    "    test_accuracy = evaluate(X_test, y_test)\n",
    "    print(\"Test Accuracy = {:.3f}\".format(test_accuracy))"
   ]
  },
  {
   "cell_type": "markdown",
   "metadata": {},
   "source": [
    "## Step 3: Test a Model on New Images"
   ]
  },
  {
   "cell_type": "markdown",
   "metadata": {},
   "source": [
    "### Implementation"
   ]
  },
  {
   "cell_type": "code",
   "execution_count": 18,
   "metadata": {
    "collapsed": false
   },
   "outputs": [],
   "source": [
    "import glob\n",
    "import matplotlib.image as mpimg"
   ]
  },
  {
   "cell_type": "markdown",
   "metadata": {},
   "source": [
    "#### Load the images from a folder"
   ]
  },
  {
   "cell_type": "code",
   "execution_count": 31,
   "metadata": {
    "collapsed": false
   },
   "outputs": [],
   "source": [
    "my_pic = []\n",
    "for pic in glob.glob(\"./demo examples/*.jpg\"):\n",
    "    img = mpimg.imread(pic)\n",
    "    my_pic.append(img)"
   ]
  },
  {
   "cell_type": "code",
   "execution_count": 32,
   "metadata": {
    "collapsed": false
   },
   "outputs": [
    {
     "data": {
      "image/png": "[encoded data removed]",
      "text/plain": [
       "<matplotlib.figure.Figure at 0x12709ee50>"
      ]
     },
     "metadata": {},
     "output_type": "display_data"
    }
   ],
   "source": [
    "for i in range(np.shape(my_pic)[0]):\n",
    "    plt.subplot(4,4, i+1)\n",
    "    plt.axis('off')\n",
    "    plt.subplots_adjust(hspace = .8)\n",
    "    plt.imshow(my_pic[i])\n"
   ]
  },
  {
   "cell_type": "code",
   "execution_count": 33,
   "metadata": {
    "collapsed": false
   },
   "outputs": [
    {
     "name": "stdout",
     "output_type": "stream",
     "text": [
      "(32, 32, 3)\n"
     ]
    }
   ],
   "source": [
    "# shape of the pic\n",
    "print(np.shape(my_pic)[1:])"
   ]
  },
  {
   "cell_type": "code",
   "execution_count": 34,
   "metadata": {
    "collapsed": false
   },
   "outputs": [],
   "source": [
    "# converting pic in numpy array\n",
    "my_pic = np.asarray(my_pic)"
   ]
  },
  {
   "cell_type": "code",
   "execution_count": 35,
   "metadata": {
    "collapsed": false
   },
   "outputs": [],
   "source": [
    "# Normalize all images\n",
    "my_pic = my_pic.astype('float32')\n",
    "for num in range(len(my_pic)):\n",
    "    for x in xrange(0,32):\n",
    "        for y in xrange(0,32):\n",
    "            [r,g,b] = my_pic[num][x,y]\n",
    "            r = (r-128)/128.0\n",
    "            g = (g-128)/128.0\n",
    "            b = (b-128)/128.0\n",
    "            my_pic[num][x,y] = [r,g,b]"
   ]
  },
  {
   "cell_type": "code",
   "execution_count": 36,
   "metadata": {
    "collapsed": false
   },
   "outputs": [
    {
     "name": "stdout",
     "output_type": "stream",
     "text": [
      "number of images: 11\n",
      "shape of the images: (32, 32, 3)\n"
     ]
    }
   ],
   "source": [
    "print(\"number of images: {}\" .format(len(my_pic)))\n",
    "print(\"shape of the images: {}\" .format(np.shape(my_pic)[1:]))"
   ]
  },
  {
   "cell_type": "markdown",
   "metadata": {},
   "source": [
    "#### Question 6\n",
    "\n",
    "Choose five candidate images of traffic signs and provide them in the report. Are there any particular qualities of the image(s) that might make classification difficult? It could be helpful to plot the images in the notebook."
   ]
  },
  {
   "cell_type": "markdown",
   "metadata": {},
   "source": [
    "#### Answer 6\n",
    "\n",
    "half of the images are taken from actual picture taken and then cropped and resized to 32x32, they might cause some error. While the other half are computer generated images like speed limit of 50, 70 etc, so they should be easily classified."
   ]
  },
  {
   "cell_type": "code",
   "execution_count": 47,
   "metadata": {
    "collapsed": false
   },
   "outputs": [
    {
     "data": {
      "image/png": "[encoded data removed]",
      "text/plain": [
       "<matplotlib.figure.Figure at 0x12ac664d0>"
      ]
     },
     "metadata": {},
     "output_type": "display_data"
    }
   ],
   "source": [
    "for i in range(np.shape(my_pic)[0]):\n",
    "    plt.subplot(4,4, i+1)\n",
    "    plt.axis('off')\n",
    "    plt.subplots_adjust(hspace = .8)\n",
    "    plt.imshow(my_pic[i])\n"
   ]
  },
  {
   "cell_type": "code",
   "execution_count": 48,
   "metadata": {
    "collapsed": false
   },
   "outputs": [],
   "source": [
    "y_new = [28,28,17,17,21,38,34,9,2,14,13]"
   ]
  },
  {
   "cell_type": "code",
   "execution_count": 38,
   "metadata": {
    "collapsed": false
   },
   "outputs": [
    {
     "data": {
      "text/plain": [
       "numpy.ndarray"
      ]
     },
     "execution_count": 38,
     "metadata": {},
     "output_type": "execute_result"
    }
   ],
   "source": [
    "#x1 = np.reshape(my_pic, (np.shape(my_pic)[0],32,32,3))\n",
    "#type(X_train)"
   ]
  },
  {
   "cell_type": "code",
   "execution_count": 27,
   "metadata": {
    "collapsed": false
   },
   "outputs": [
    {
     "data": {
      "text/plain": [
       "dtype('float32')"
      ]
     },
     "execution_count": 27,
     "metadata": {},
     "output_type": "execute_result"
    }
   ],
   "source": [
    "#my_pic = np.reshape(my_pic, (np.shape(my_pic)[0],32,32,3))\n",
    "my_pic.dtype"
   ]
  },
  {
   "cell_type": "code",
   "execution_count": 49,
   "metadata": {
    "collapsed": false
   },
   "outputs": [],
   "source": [
    "with tf.Session() as sess:    \n",
    "    #sess.run(tf.initialize_all_variables())\n",
    "    #saver = tf.train.import_meta_graph('project2_.meta')\n",
    "    saver.restore(sess, 'project2_')\n",
    "    #new_saver = tf.train.import_meta_graph('project2_.meta')\n",
    "    #new_saver.restore(sess, tf.train.latest_checkpoint('./'))\n",
    "    \n",
    "    out = sess.run(logits, feed_dict={x_: my_pic, keep_prob: 1.0})\n",
    "    #newpics_accuracy = evaluate(my_pic, y_new)\n",
    "    #print(\"Test Accuracy = {:.3f}\".format(newpics_accuracy))"
   ]
  },
  {
   "cell_type": "code",
   "execution_count": 50,
   "metadata": {
    "collapsed": false
   },
   "outputs": [],
   "source": [
    "# Classification\n",
    "y_outputlabels = []\n",
    "for num in range(len(out)):\n",
    "    y_outputlabels.append(np.argmax(out[num]))"
   ]
  },
  {
   "cell_type": "code",
   "execution_count": 51,
   "metadata": {
    "collapsed": false
   },
   "outputs": [
    {
     "name": "stdout",
     "output_type": "stream",
     "text": [
      "('classfied labels: ', [28, 28, 17, 17, 28, 13, 8, 12, 1, 14, 13])\n",
      "('true labels: ', [28, 28, 17, 17, 21, 38, 34, 9, 2, 14, 13])\n"
     ]
    }
   ],
   "source": [
    "print(\"classfied labels: \", y_outputlabels)\n",
    "print(\"true labels: \", y_new)"
   ]
  },
  {
   "cell_type": "code",
   "execution_count": 53,
   "metadata": {
    "collapsed": false
   },
   "outputs": [
    {
     "data": {
      "text/plain": [
       "0.5454545454545454"
      ]
     },
     "execution_count": 53,
     "metadata": {},
     "output_type": "execute_result"
    }
   ],
   "source": [
    "# Accuracy:\n",
    "acc = 6./11\n",
    "acc"
   ]
  },
  {
   "cell_type": "markdown",
   "metadata": {},
   "source": [
    "#### Question 7\n",
    "Is your model able to perform equally well on captured pictures when compared to testing on the dataset? The simplest way to do this check the accuracy of the predictions. For example, if the model predicted 1 out of 5 signs correctly, it's 20% accurate.\n",
    "\n",
    "**NOTE:** You could check the accuracy manually by using signnames.csv (same directory). This file has a mapping from the class id (0-42) to the corresponding sign name. So, you could take the class id the model outputs, lookup the name in signnames.csv and see if it matches the sign from the image."
   ]
  },
  {
   "cell_type": "markdown",
   "metadata": {
    "collapsed": true
   },
   "source": [
    "#### Answer 7:\n",
    "\n",
    "My model was able to predict 54.55 percent of all the test images. **The resolution of the images used in the test data was the main factor due to this error.** The model is good in predicting images using the shape, color and size of the sign, along with differnt shape object or text inside the sign.\n",
    "\n",
    "But, it is still weak in predicting the sign when there are multiple text or images inside the sign. Therefore the middle 4 images are predicted incorrectly\n",
    "\n",
    "**If we analyze the predict sign, we can observe, that the model predict 30km/hr speed sign instead of 50km/hr speed sign, it predicted \"priroity pass\" sign instead of \"no passing\" beacuse the shape and color of the sign is what the classification was mainly based on.**"
   ]
  },
  {
   "cell_type": "markdown",
   "metadata": {
    "collapsed": true
   },
   "source": [
    "## Output Top 5 Softmax Probabilities For Each Image Found on the Web"
   ]
  },
  {
   "cell_type": "code",
   "execution_count": 54,
   "metadata": {
    "collapsed": true
   },
   "outputs": [],
   "source": [
    "### Visualize the softmax probabilities here.\n",
    "### Feel free to use as many code cells as needed.\n",
    "\n",
    "with tf.Session() as sess:\n",
    "    #sess.run(tf.global_variables_initializer())\n",
    "    #new_saver = tf.train.import_meta_graph('traffic_signs.ckpt.meta')\n",
    "    #new_saver.restore(sess, tf.train.latest_checkpoint('./'))\n",
    "    saver.restore(sess, 'project2_')\n",
    "    \n",
    "    out_top_k = sess.run(tf.nn.top_k(tf.nn.softmax(logits), k=5), feed_dict={x_: my_pic, keep_prob: 1.0})"
   ]
  },
  {
   "cell_type": "code",
   "execution_count": 55,
   "metadata": {
    "collapsed": false
   },
   "outputs": [
    {
     "name": "stdout",
     "output_type": "stream",
     "text": [
      "TopKV2(values=array([[  1.00000000e+00,   1.31765612e-18,   4.43298291e-19,\n",
      "          2.16630292e-22,   7.71252741e-24],\n",
      "       [  9.99999762e-01,   1.94641828e-07,   4.38416059e-08,\n",
      "          1.07677003e-13,   1.04927536e-14],\n",
      "       [  1.00000000e+00,   2.29069995e-30,   4.23227807e-32,\n",
      "          1.13823338e-32,   2.68960788e-37],\n",
      "       [  9.99993801e-01,   6.15966292e-06,   3.16143917e-11,\n",
      "          2.33973496e-12,   3.52512805e-13],\n",
      "       [  9.99997020e-01,   2.92658729e-06,   8.01252917e-14,\n",
      "          2.75825505e-14,   7.35273387e-15],\n",
      "       [  1.00000000e+00,   7.95099317e-20,   7.75378297e-20,\n",
      "          4.80191718e-23,   7.17256711e-24],\n",
      "       [  9.95681167e-01,   4.26398776e-03,   5.48802745e-05,\n",
      "          3.53927526e-10,   5.58338857e-13],\n",
      "       [  9.83791947e-01,   1.61433574e-02,   1.39432113e-05,\n",
      "          1.32388013e-05,   8.68734514e-06],\n",
      "       [  1.00000000e+00,   4.81695628e-10,   7.99397928e-13,\n",
      "          2.39630195e-14,   1.58340803e-15],\n",
      "       [  1.00000000e+00,   0.00000000e+00,   0.00000000e+00,\n",
      "          0.00000000e+00,   0.00000000e+00],\n",
      "       [  1.00000000e+00,   0.00000000e+00,   0.00000000e+00,\n",
      "          0.00000000e+00,   0.00000000e+00]], dtype=float32), indices=array([[28, 29, 24, 23, 27],\n",
      "       [28,  3, 23, 11, 16],\n",
      "       [17,  0,  8, 26, 20],\n",
      "       [17, 13, 14, 29,  0],\n",
      "       [28,  0,  8, 22, 29],\n",
      "       [13, 15, 36, 28, 38],\n",
      "       [ 8,  4,  0, 34, 26],\n",
      "       [12, 14, 25, 32, 11],\n",
      "       [ 1,  2,  5, 40, 27],\n",
      "       [14,  0,  1,  2,  3],\n",
      "       [13,  0,  1,  2,  3]], dtype=int32))\n"
     ]
    }
   ],
   "source": [
    "print(out_top_k)"
   ]
  },
  {
   "cell_type": "code",
   "execution_count": null,
   "metadata": {
    "collapsed": true
   },
   "outputs": [],
   "source": []
  }
 ],
 "metadata": {
  "anaconda-cloud": {},
  "kernelspec": {
   "display_name": "Python [conda env:tensorflow]",
   "language": "python",
   "name": "conda-env-tensorflow-py"
  },
  "language_info": {
   "codemirror_mode": {
    "name": "ipython",
    "version": 2
   },
   "file_extension": ".py",
   "mimetype": "text/x-python",
   "name": "python",
   "nbconvert_exporter": "python",
   "pygments_lexer": "ipython2",
   "version": "2.7.12"
  }
 },
 "nbformat": 4,
 "nbformat_minor": 1
}
